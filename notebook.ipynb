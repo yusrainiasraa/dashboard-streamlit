{
  "cells": [
    {
      "cell_type": "markdown",
      "metadata": {
        "id": "H9wADwK78DCz"
      },
      "source": [
        "# Proyek Analisis Data: E-Commerce Public Dataset\n",
        "- **Nama:** Yusraini Nurul Asra\n",
        "- **Email:** yusrainiasraaa@gmail.com\n",
        "- **ID Dicoding:** yusrainiasraa"
      ]
    },
    {
      "cell_type": "markdown",
      "metadata": {
        "id": "eE0raob58DC0"
      },
      "source": [
        "## Menentukan Pertanyaan Bisnis"
      ]
    },
    {
      "cell_type": "markdown",
      "metadata": {
        "id": "GmQeQ5YF8DC0"
      },
      "source": [
        "- Pertanyaan 1: Bagaimana trend pembelian yang terjadi setiap bulan? Apakah trendnya cenderung mengalami kenaikan atau penurunan? Pada bulan dan tahun berapakah penjualan tertinggi serta penjualan terendah diraih?\n",
        "- Pertanyaan 2: Produk apakah yang paling laris terjual? 7 kategori produk mana sajakah yang terlaris?\n",
        "- Pertanyaan 3: Bagaimanakah rating yang didapatkan? Apakah E-commerce Olist merupakan platform yang bagus untuk transaksi jual beli jika dilihat berdasarkan ratingnya?\n",
        "- Pertanyaan 4: Metode pembayaran apakah yang paling sering digunakan? Bagaimanakah persentase dari masing-masing metode pembayaran? \n",
        "- Pertanyaan 5: Sebuah usaha e-commerce tentu tidak luput dari resiko cancel order. Apakah pada Olist E-commerce terdapat produk yang mengalami cancel order? Kategori produk apa sajakah serta berapa banyak kategori produk yang dicancel tersebut? Berapakah total produk yang ordernya dicancel?\n",
        "- Pertanyaan 6: Analisis lebih lanjut diperlukan untuk sebuah usaha e-commerce. Bagaimanakah analisis rating berdasarkan RFM Analysis? Apakah performa Olist E-commerce tergolong baik?"
      ]
    },
    {
      "cell_type": "markdown",
      "metadata": {
        "id": "H-z4QGlO8DC1"
      },
      "source": [
        "## Import Semua Packages/Library yang Digunakan"
      ]
    },
    {
      "cell_type": "markdown",
      "metadata": {},
      "source": [
        "Pertama, import semua library yang dibutuhkan."
      ]
    },
    {
      "cell_type": "code",
      "execution_count": 1,
      "metadata": {
        "id": "FVYwaObI8DC1"
      },
      "outputs": [],
      "source": [
        "import pandas as pd\n",
        "import numpy as np\n",
        "import matplotlib.pyplot as plt\n",
        "import seaborn as sns\n",
        "from babel.numbers import format_currency"
      ]
    },
    {
      "cell_type": "markdown",
      "metadata": {
        "id": "h_Sh51Xy8DC1"
      },
      "source": [
        "## Data Wrangling"
      ]
    },
    {
      "cell_type": "markdown",
      "metadata": {},
      "source": [
        "Sumber data: https://www.kaggle.com/datasets/olistbr/brazilian-ecommerce"
      ]
    },
    {
      "cell_type": "markdown",
      "metadata": {},
      "source": [
        "Atau bisa dilihat juga di: https://drive.google.com/file/d/1MsAjPM7oKtVfJL_wRp1qmCajtSG1mdcK/view"
      ]
    },
    {
      "cell_type": "markdown",
      "metadata": {
        "id": "sXU2GBYu8DC1"
      },
      "source": [
        "### Gathering Data"
      ]
    },
    {
      "cell_type": "markdown",
      "metadata": {},
      "source": [
        "Mendefinisikan data lalu import file csv dengan pd.read_csv"
      ]
    },
    {
      "cell_type": "code",
      "execution_count": 2,
      "metadata": {},
      "outputs": [],
      "source": [
        "df_orders = pd.read_csv('data/orders_dataset.csv')\n",
        "df_o_items = pd.read_csv('data/order_items_dataset.csv')\n",
        "df_o_payments = pd.read_csv('data/order_payments_dataset.csv')\n",
        "df_o_reviews = pd.read_csv('data/order_reviews_dataset.csv')\n",
        "df_products = pd.read_csv('data/products_dataset.csv')\n",
        "df_p_category = pd.read_csv('data/product_category_name_translation.csv')"
      ]
    },
    {
      "cell_type": "markdown",
      "metadata": {
        "id": "FHSiqaZp8DC1"
      },
      "source": [
        "### Assessing Data"
      ]
    },
    {
      "cell_type": "markdown",
      "metadata": {},
      "source": [
        "#### `df_orders`"
      ]
    },
    {
      "cell_type": "code",
      "execution_count": 3,
      "metadata": {},
      "outputs": [
        {
          "name": "stdout",
          "output_type": "stream",
          "text": [
            "<class 'pandas.core.frame.DataFrame'>\n",
            "RangeIndex: 99441 entries, 0 to 99440\n",
            "Data columns (total 8 columns):\n",
            " #   Column                         Non-Null Count  Dtype \n",
            "---  ------                         --------------  ----- \n",
            " 0   order_id                       99441 non-null  object\n",
            " 1   customer_id                    99441 non-null  object\n",
            " 2   order_status                   99441 non-null  object\n",
            " 3   order_purchase_timestamp       99441 non-null  object\n",
            " 4   order_approved_at              99281 non-null  object\n",
            " 5   order_delivered_carrier_date   97658 non-null  object\n",
            " 6   order_delivered_customer_date  96476 non-null  object\n",
            " 7   order_estimated_delivery_date  99441 non-null  object\n",
            "dtypes: object(8)\n",
            "memory usage: 6.1+ MB\n"
          ]
        }
      ],
      "source": [
        "df_orders.info()"
      ]
    },
    {
      "cell_type": "code",
      "execution_count": 4,
      "metadata": {},
      "outputs": [
        {
          "data": {
            "text/plain": [
              "order_id                            0\n",
              "customer_id                         0\n",
              "order_status                        0\n",
              "order_purchase_timestamp            0\n",
              "order_approved_at                 160\n",
              "order_delivered_carrier_date     1783\n",
              "order_delivered_customer_date    2965\n",
              "order_estimated_delivery_date       0\n",
              "dtype: int64"
            ]
          },
          "execution_count": 4,
          "metadata": {},
          "output_type": "execute_result"
        }
      ],
      "source": [
        "# Checking Missing Values\n",
        "df_orders.isnull().sum()"
      ]
    },
    {
      "cell_type": "code",
      "execution_count": 5,
      "metadata": {},
      "outputs": [
        {
          "data": {
            "text/plain": [
              "0"
            ]
          },
          "execution_count": 5,
          "metadata": {},
          "output_type": "execute_result"
        }
      ],
      "source": [
        "# Checking Duplicated Data\n",
        "df_orders.duplicated().sum()"
      ]
    },
    {
      "cell_type": "markdown",
      "metadata": {},
      "source": [
        "#### `df_o_items`"
      ]
    },
    {
      "cell_type": "code",
      "execution_count": 6,
      "metadata": {},
      "outputs": [
        {
          "name": "stdout",
          "output_type": "stream",
          "text": [
            "<class 'pandas.core.frame.DataFrame'>\n",
            "RangeIndex: 112650 entries, 0 to 112649\n",
            "Data columns (total 7 columns):\n",
            " #   Column               Non-Null Count   Dtype  \n",
            "---  ------               --------------   -----  \n",
            " 0   order_id             112650 non-null  object \n",
            " 1   order_item_id        112650 non-null  int64  \n",
            " 2   product_id           112650 non-null  object \n",
            " 3   seller_id            112650 non-null  object \n",
            " 4   shipping_limit_date  112650 non-null  object \n",
            " 5   price                112650 non-null  float64\n",
            " 6   freight_value        112650 non-null  float64\n",
            "dtypes: float64(2), int64(1), object(4)\n",
            "memory usage: 6.0+ MB\n"
          ]
        }
      ],
      "source": [
        "df_o_items.info()"
      ]
    },
    {
      "cell_type": "code",
      "execution_count": 7,
      "metadata": {},
      "outputs": [
        {
          "data": {
            "text/plain": [
              "order_id               0\n",
              "order_item_id          0\n",
              "product_id             0\n",
              "seller_id              0\n",
              "shipping_limit_date    0\n",
              "price                  0\n",
              "freight_value          0\n",
              "dtype: int64"
            ]
          },
          "execution_count": 7,
          "metadata": {},
          "output_type": "execute_result"
        }
      ],
      "source": [
        "# Checking Missing Values\n",
        "df_o_items.isnull().sum()"
      ]
    },
    {
      "cell_type": "code",
      "execution_count": 8,
      "metadata": {},
      "outputs": [
        {
          "data": {
            "text/plain": [
              "0"
            ]
          },
          "execution_count": 8,
          "metadata": {},
          "output_type": "execute_result"
        }
      ],
      "source": [
        "# Checking Duplicated Data\n",
        "df_o_items.duplicated().sum()"
      ]
    },
    {
      "cell_type": "markdown",
      "metadata": {},
      "source": [
        "#### `df_o_payments`"
      ]
    },
    {
      "cell_type": "code",
      "execution_count": 9,
      "metadata": {},
      "outputs": [
        {
          "name": "stdout",
          "output_type": "stream",
          "text": [
            "<class 'pandas.core.frame.DataFrame'>\n",
            "RangeIndex: 103886 entries, 0 to 103885\n",
            "Data columns (total 5 columns):\n",
            " #   Column                Non-Null Count   Dtype  \n",
            "---  ------                --------------   -----  \n",
            " 0   order_id              103886 non-null  object \n",
            " 1   payment_sequential    103886 non-null  int64  \n",
            " 2   payment_type          103886 non-null  object \n",
            " 3   payment_installments  103886 non-null  int64  \n",
            " 4   payment_value         103886 non-null  float64\n",
            "dtypes: float64(1), int64(2), object(2)\n",
            "memory usage: 4.0+ MB\n"
          ]
        }
      ],
      "source": [
        "df_o_payments.info()"
      ]
    },
    {
      "cell_type": "code",
      "execution_count": 10,
      "metadata": {},
      "outputs": [
        {
          "data": {
            "text/plain": [
              "order_id                0\n",
              "payment_sequential      0\n",
              "payment_type            0\n",
              "payment_installments    0\n",
              "payment_value           0\n",
              "dtype: int64"
            ]
          },
          "execution_count": 10,
          "metadata": {},
          "output_type": "execute_result"
        }
      ],
      "source": [
        "# Checking Missing Values\n",
        "df_o_payments.isnull().sum()"
      ]
    },
    {
      "cell_type": "code",
      "execution_count": 11,
      "metadata": {},
      "outputs": [
        {
          "data": {
            "text/plain": [
              "0"
            ]
          },
          "execution_count": 11,
          "metadata": {},
          "output_type": "execute_result"
        }
      ],
      "source": [
        "# Checking Duplicated Data\n",
        "df_o_payments.duplicated().sum()"
      ]
    },
    {
      "cell_type": "markdown",
      "metadata": {},
      "source": [
        "#### `df_o_reviews`"
      ]
    },
    {
      "cell_type": "code",
      "execution_count": 12,
      "metadata": {},
      "outputs": [
        {
          "name": "stdout",
          "output_type": "stream",
          "text": [
            "<class 'pandas.core.frame.DataFrame'>\n",
            "RangeIndex: 99224 entries, 0 to 99223\n",
            "Data columns (total 7 columns):\n",
            " #   Column                   Non-Null Count  Dtype \n",
            "---  ------                   --------------  ----- \n",
            " 0   review_id                99224 non-null  object\n",
            " 1   order_id                 99224 non-null  object\n",
            " 2   review_score             99224 non-null  int64 \n",
            " 3   review_comment_title     11568 non-null  object\n",
            " 4   review_comment_message   40977 non-null  object\n",
            " 5   review_creation_date     99224 non-null  object\n",
            " 6   review_answer_timestamp  99224 non-null  object\n",
            "dtypes: int64(1), object(6)\n",
            "memory usage: 5.3+ MB\n"
          ]
        }
      ],
      "source": [
        "df_o_reviews.info()"
      ]
    },
    {
      "cell_type": "code",
      "execution_count": 13,
      "metadata": {},
      "outputs": [
        {
          "data": {
            "text/plain": [
              "review_id                      0\n",
              "order_id                       0\n",
              "review_score                   0\n",
              "review_comment_title       87656\n",
              "review_comment_message     58247\n",
              "review_creation_date           0\n",
              "review_answer_timestamp        0\n",
              "dtype: int64"
            ]
          },
          "execution_count": 13,
          "metadata": {},
          "output_type": "execute_result"
        }
      ],
      "source": [
        "# Checking Missing Values\n",
        "df_o_reviews.isnull().sum()"
      ]
    },
    {
      "cell_type": "code",
      "execution_count": 14,
      "metadata": {},
      "outputs": [
        {
          "data": {
            "text/plain": [
              "0"
            ]
          },
          "execution_count": 14,
          "metadata": {},
          "output_type": "execute_result"
        }
      ],
      "source": [
        "# Checking Duplicated Data\n",
        "df_o_reviews.duplicated().sum()"
      ]
    },
    {
      "cell_type": "markdown",
      "metadata": {},
      "source": [
        "#### `df_products`"
      ]
    },
    {
      "cell_type": "code",
      "execution_count": 15,
      "metadata": {},
      "outputs": [
        {
          "name": "stdout",
          "output_type": "stream",
          "text": [
            "<class 'pandas.core.frame.DataFrame'>\n",
            "RangeIndex: 32951 entries, 0 to 32950\n",
            "Data columns (total 9 columns):\n",
            " #   Column                      Non-Null Count  Dtype  \n",
            "---  ------                      --------------  -----  \n",
            " 0   product_id                  32951 non-null  object \n",
            " 1   product_category_name       32341 non-null  object \n",
            " 2   product_name_lenght         32341 non-null  float64\n",
            " 3   product_description_lenght  32341 non-null  float64\n",
            " 4   product_photos_qty          32341 non-null  float64\n",
            " 5   product_weight_g            32949 non-null  float64\n",
            " 6   product_length_cm           32949 non-null  float64\n",
            " 7   product_height_cm           32949 non-null  float64\n",
            " 8   product_width_cm            32949 non-null  float64\n",
            "dtypes: float64(7), object(2)\n",
            "memory usage: 2.3+ MB\n"
          ]
        }
      ],
      "source": [
        "df_products.info()"
      ]
    },
    {
      "cell_type": "code",
      "execution_count": 16,
      "metadata": {},
      "outputs": [
        {
          "data": {
            "text/plain": [
              "product_id                      0\n",
              "product_category_name         610\n",
              "product_name_lenght           610\n",
              "product_description_lenght    610\n",
              "product_photos_qty            610\n",
              "product_weight_g                2\n",
              "product_length_cm               2\n",
              "product_height_cm               2\n",
              "product_width_cm                2\n",
              "dtype: int64"
            ]
          },
          "execution_count": 16,
          "metadata": {},
          "output_type": "execute_result"
        }
      ],
      "source": [
        "# Checking Missing Values\n",
        "df_products.isnull().sum()"
      ]
    },
    {
      "cell_type": "code",
      "execution_count": 17,
      "metadata": {},
      "outputs": [
        {
          "data": {
            "text/plain": [
              "0"
            ]
          },
          "execution_count": 17,
          "metadata": {},
          "output_type": "execute_result"
        }
      ],
      "source": [
        "# Checking Duplicated Data\n",
        "df_products.duplicated().sum()"
      ]
    },
    {
      "cell_type": "markdown",
      "metadata": {},
      "source": [
        "#### `df_p_category`"
      ]
    },
    {
      "cell_type": "code",
      "execution_count": 18,
      "metadata": {},
      "outputs": [
        {
          "name": "stdout",
          "output_type": "stream",
          "text": [
            "<class 'pandas.core.frame.DataFrame'>\n",
            "RangeIndex: 71 entries, 0 to 70\n",
            "Data columns (total 2 columns):\n",
            " #   Column                         Non-Null Count  Dtype \n",
            "---  ------                         --------------  ----- \n",
            " 0   product_category_name          71 non-null     object\n",
            " 1   product_category_name_english  71 non-null     object\n",
            "dtypes: object(2)\n",
            "memory usage: 1.2+ KB\n"
          ]
        }
      ],
      "source": [
        "df_p_category.info()"
      ]
    },
    {
      "cell_type": "code",
      "execution_count": 19,
      "metadata": {},
      "outputs": [
        {
          "data": {
            "text/plain": [
              "product_category_name            0\n",
              "product_category_name_english    0\n",
              "dtype: int64"
            ]
          },
          "execution_count": 19,
          "metadata": {},
          "output_type": "execute_result"
        }
      ],
      "source": [
        "# Checking Missing Values\n",
        "df_p_category.isnull().sum()"
      ]
    },
    {
      "cell_type": "code",
      "execution_count": 20,
      "metadata": {},
      "outputs": [
        {
          "data": {
            "text/plain": [
              "0"
            ]
          },
          "execution_count": 20,
          "metadata": {},
          "output_type": "execute_result"
        }
      ],
      "source": [
        "# Checking Duplicated Data\n",
        "df_p_category.duplicated().sum()"
      ]
    },
    {
      "cell_type": "markdown",
      "metadata": {},
      "source": [
        "Karena pada beberapa dataframe terdapat missing values maka perlu dilakukan handling missing values. Selain itu ada beberapa column pada dataframe yang belum sesuai type datanya sehingga perlu diubah terlebih dahulu."
      ]
    },
    {
      "cell_type": "markdown",
      "metadata": {
        "id": "EhN5R4hr8DC1"
      },
      "source": [
        "### Cleaning Data"
      ]
    },
    {
      "cell_type": "markdown",
      "metadata": {},
      "source": [
        "#### `df_orders`"
      ]
    },
    {
      "cell_type": "markdown",
      "metadata": {},
      "source": [
        "Drop kolom yang tidak dibutuhkan."
      ]
    },
    {
      "cell_type": "code",
      "execution_count": 21,
      "metadata": {},
      "outputs": [],
      "source": [
        "# Dropping unnecessary columns\n",
        "df_orders = df_orders.drop(columns=['order_approved_at','order_delivered_carrier_date'])"
      ]
    },
    {
      "cell_type": "markdown",
      "metadata": {},
      "source": [
        "Sekarang column yang memiliki missing values adalah column order_delivered_customer_date sebesar 2965 data. Akan dilakukan dropna seperti berikut"
      ]
    },
    {
      "cell_type": "code",
      "execution_count": 22,
      "metadata": {},
      "outputs": [],
      "source": [
        "# Handling Missing Values with dropna\n",
        "df_orders.dropna(inplace=True)"
      ]
    },
    {
      "cell_type": "markdown",
      "metadata": {},
      "source": [
        "Karena terdapat column order_delivered_customer_date dan order_estimated_delivery_date yang masih berupa object maka kita perlu mengubahnya menjadi datetime."
      ]
    },
    {
      "cell_type": "code",
      "execution_count": 23,
      "metadata": {},
      "outputs": [],
      "source": [
        "# Handling Datetime Data type\n",
        "columns = ['order_purchase_timestamp','order_delivered_customer_date', 'order_estimated_delivery_date']\n",
        "for column in columns:\n",
        "    df_orders[column] = pd.to_datetime(df_orders[column])"
      ]
    },
    {
      "cell_type": "markdown",
      "metadata": {},
      "source": [
        "#### `df_o_payments`"
      ]
    },
    {
      "cell_type": "markdown",
      "metadata": {},
      "source": [
        "Drop kolom yang tidak dibutuhkan."
      ]
    },
    {
      "cell_type": "code",
      "execution_count": 24,
      "metadata": {},
      "outputs": [],
      "source": [
        "# Dropping unnecessary columns\n",
        "df_o_payments = df_o_payments.drop(columns=['payment_sequential', 'payment_installments'])"
      ]
    },
    {
      "cell_type": "code",
      "execution_count": 25,
      "metadata": {},
      "outputs": [
        {
          "data": {
            "text/plain": [
              "count    103886.000000\n",
              "mean        154.100380\n",
              "std         217.494064\n",
              "min           0.000000\n",
              "25%          56.790000\n",
              "50%         100.000000\n",
              "75%         171.837500\n",
              "max       13664.080000\n",
              "Name: payment_value, dtype: float64"
            ]
          },
          "execution_count": 25,
          "metadata": {},
          "output_type": "execute_result"
        }
      ],
      "source": [
        "# Checking is there any outliers\n",
        "df_o_payments['payment_value'].describe()"
      ]
    },
    {
      "cell_type": "markdown",
      "metadata": {},
      "source": [
        "Ternyata dapat dilihat bahwa terdapat outlier yang cukup besar. Akan dilakukan Handling Outliers dengan IQR Method."
      ]
    },
    {
      "cell_type": "code",
      "execution_count": 26,
      "metadata": {},
      "outputs": [],
      "source": [
        "# Handling Outliers with IQR Method\n",
        "Q1 = df_o_payments['payment_value'].describe().loc[\"25%\"]\n",
        "Q3 = df_o_payments['payment_value'].describe().loc[\"75%\"]\n",
        "IQR = Q3 - Q1\n",
        "\n",
        "lower = Q1 - 1.5*IQR\n",
        "upper = Q3 + 1.5*IQR\n",
        "\n",
        "df_o_payments = df_o_payments[(df_o_payments[\"payment_value\"] >= lower) & (df_o_payments[\"payment_value\"] <= upper)]"
      ]
    },
    {
      "cell_type": "markdown",
      "metadata": {},
      "source": [
        "#### `df_o_reviews`"
      ]
    },
    {
      "cell_type": "markdown",
      "metadata": {},
      "source": [
        "Karena column review_comment_title dan review_comment_message memiliki missing values yang cukup besar, yakni sebesar 87656 dan 58247 data, maka akan dilakukan drop column untuk efisiensi."
      ]
    },
    {
      "cell_type": "code",
      "execution_count": 27,
      "metadata": {},
      "outputs": [],
      "source": [
        "# Handling Missing Values\n",
        "df_o_reviews = df_o_reviews.drop(columns=['review_comment_title', 'review_comment_message'])"
      ]
    },
    {
      "cell_type": "markdown",
      "metadata": {},
      "source": [
        "Drop kolom yang tidak dibutuhkan."
      ]
    },
    {
      "cell_type": "code",
      "execution_count": 28,
      "metadata": {},
      "outputs": [],
      "source": [
        "# Dropping unnecessary columns\n",
        "df_o_reviews = df_o_reviews.drop(columns=['review_creation_date', 'review_answer_timestamp'])"
      ]
    },
    {
      "cell_type": "markdown",
      "metadata": {},
      "source": [
        "#### `df_products`"
      ]
    },
    {
      "cell_type": "markdown",
      "metadata": {},
      "source": [
        "Column product_category_name berisi data kategorikal sehingga modus adalah penanganan yang tepat untuk menangani data kategorikal dengan missing value."
      ]
    },
    {
      "cell_type": "code",
      "execution_count": 29,
      "metadata": {},
      "outputs": [],
      "source": [
        "# Handling Categorical Missing Values with fillna mode\n",
        "df_products['product_category_name'] = df_products['product_category_name'].fillna(df_products['product_category_name'].mode()[0])"
      ]
    },
    {
      "cell_type": "markdown",
      "metadata": {},
      "source": [
        "Sedangkan column sisanya berisi data numerik sehingga rata-rata atau median adalah penanganan yang tepat untuk menangani data numerik dengan missing value. Menggunakan rata-rata dapat membantu mempertahankan distribusi data secara keseluruhan, sementara menggunakan median adalah pendekatan yang lebih kuat dan kurang sensitif terhadap pencilan."
      ]
    },
    {
      "cell_type": "code",
      "execution_count": 30,
      "metadata": {},
      "outputs": [],
      "source": [
        "# Handling Numerical Missing Values with fillna mean\n",
        "columns = ['product_name_lenght','product_description_lenght','product_photos_qty']\n",
        "for column in columns:\n",
        "    df_products[column] = df_products[column].fillna(df_products[column].mean())"
      ]
    },
    {
      "cell_type": "code",
      "execution_count": 31,
      "metadata": {},
      "outputs": [],
      "source": [
        "# Handling Numerical Missing Values with fillna median\n",
        "columns = ['product_weight_g','product_length_cm','product_height_cm','product_width_cm']\n",
        "for column in columns:\n",
        "    df_products[column] = df_products[column].fillna(df_products[column].median())"
      ]
    },
    {
      "cell_type": "markdown",
      "metadata": {
        "id": "gp-Y6wU38DC1"
      },
      "source": [
        "## Exploratory Data Analysis (EDA)"
      ]
    },
    {
      "cell_type": "markdown",
      "metadata": {},
      "source": [
        "### Explore `df_orders`"
      ]
    },
    {
      "cell_type": "markdown",
      "metadata": {},
      "source": [
        "Akan dilihat trend order per bulan pada dataframe df_orders."
      ]
    },
    {
      "cell_type": "code",
      "execution_count": 32,
      "metadata": {},
      "outputs": [
        {
          "data": {
            "text/html": [
              "<div>\n",
              "<style scoped>\n",
              "    .dataframe tbody tr th:only-of-type {\n",
              "        vertical-align: middle;\n",
              "    }\n",
              "\n",
              "    .dataframe tbody tr th {\n",
              "        vertical-align: top;\n",
              "    }\n",
              "\n",
              "    .dataframe thead th {\n",
              "        text-align: right;\n",
              "    }\n",
              "</style>\n",
              "<table border=\"1\" class=\"dataframe\">\n",
              "  <thead>\n",
              "    <tr style=\"text-align: right;\">\n",
              "      <th></th>\n",
              "      <th>order_id</th>\n",
              "    </tr>\n",
              "    <tr>\n",
              "      <th>order_purchase_timestamp</th>\n",
              "      <th></th>\n",
              "    </tr>\n",
              "  </thead>\n",
              "  <tbody>\n",
              "    <tr>\n",
              "      <th>2016-09</th>\n",
              "      <td>1</td>\n",
              "    </tr>\n",
              "    <tr>\n",
              "      <th>2016-10</th>\n",
              "      <td>270</td>\n",
              "    </tr>\n",
              "    <tr>\n",
              "      <th>2016-12</th>\n",
              "      <td>1</td>\n",
              "    </tr>\n",
              "    <tr>\n",
              "      <th>2017-01</th>\n",
              "      <td>750</td>\n",
              "    </tr>\n",
              "    <tr>\n",
              "      <th>2017-02</th>\n",
              "      <td>1653</td>\n",
              "    </tr>\n",
              "  </tbody>\n",
              "</table>\n",
              "</div>"
            ],
            "text/plain": [
              "                          order_id\n",
              "order_purchase_timestamp          \n",
              "2016-09                          1\n",
              "2016-10                        270\n",
              "2016-12                          1\n",
              "2017-01                        750\n",
              "2017-02                       1653"
            ]
          },
          "execution_count": 32,
          "metadata": {},
          "output_type": "execute_result"
        }
      ],
      "source": [
        "orders_month = pd.DataFrame(df_orders.groupby(df_orders['order_purchase_timestamp'].dt.to_period(\"M\")).order_id.nunique())\n",
        "orders_month.head()"
      ]
    },
    {
      "cell_type": "markdown",
      "metadata": {},
      "source": [
        "### Merging Dataframe"
      ]
    },
    {
      "cell_type": "markdown",
      "metadata": {},
      "source": [
        "Sebelum melakukan eksplore lebih lanjut, terlebih dahulu akan dilakukan merge pada dataframe."
      ]
    },
    {
      "cell_type": "code",
      "execution_count": 33,
      "metadata": {},
      "outputs": [],
      "source": [
        "# Merging df_products with df_p_category\n",
        "df_products_category = pd.merge(df_products[['product_id', 'product_category_name']],df_p_category[['product_category_name', 'product_category_name_english']], on='product_category_name', how='inner')"
      ]
    },
    {
      "cell_type": "code",
      "execution_count": 34,
      "metadata": {},
      "outputs": [],
      "source": [
        "# Merging df_products_category with df_o_items\n",
        "df_products_category_items = pd.merge(df_products_category,df_o_items[['order_id','order_item_id','product_id']], on='product_id', how='inner')"
      ]
    },
    {
      "cell_type": "code",
      "execution_count": 35,
      "metadata": {},
      "outputs": [],
      "source": [
        "# Merging df_products_category_items with df_orders\n",
        "df_products_category_items_orders = pd.merge(df_products_category_items,df_orders[['order_id','order_status','order_estimated_delivery_date','order_delivered_customer_date','order_purchase_timestamp']], on='order_id', how='inner')"
      ]
    },
    {
      "cell_type": "code",
      "execution_count": 36,
      "metadata": {},
      "outputs": [],
      "source": [
        "# Merging df_products_category_items_orders with df_o_payments\n",
        "df_products_category_items_orders_payments = pd.merge(df_products_category_items_orders,df_o_payments[['order_id','payment_type','payment_value']], on='order_id', how='inner')"
      ]
    },
    {
      "cell_type": "code",
      "execution_count": 37,
      "metadata": {},
      "outputs": [
        {
          "data": {
            "text/html": [
              "<div>\n",
              "<style scoped>\n",
              "    .dataframe tbody tr th:only-of-type {\n",
              "        vertical-align: middle;\n",
              "    }\n",
              "\n",
              "    .dataframe tbody tr th {\n",
              "        vertical-align: top;\n",
              "    }\n",
              "\n",
              "    .dataframe thead th {\n",
              "        text-align: right;\n",
              "    }\n",
              "</style>\n",
              "<table border=\"1\" class=\"dataframe\">\n",
              "  <thead>\n",
              "    <tr style=\"text-align: right;\">\n",
              "      <th></th>\n",
              "      <th>product_id</th>\n",
              "      <th>product_category_name</th>\n",
              "      <th>product_category_name_english</th>\n",
              "      <th>order_id</th>\n",
              "      <th>order_item_id</th>\n",
              "      <th>order_status</th>\n",
              "      <th>order_estimated_delivery_date</th>\n",
              "      <th>order_delivered_customer_date</th>\n",
              "      <th>order_purchase_timestamp</th>\n",
              "      <th>payment_type</th>\n",
              "      <th>payment_value</th>\n",
              "      <th>review_score</th>\n",
              "    </tr>\n",
              "  </thead>\n",
              "  <tbody>\n",
              "    <tr>\n",
              "      <th>0</th>\n",
              "      <td>1e9e8ef04dbcff4541ed26657ea517e5</td>\n",
              "      <td>perfumaria</td>\n",
              "      <td>perfumery</td>\n",
              "      <td>e17e4f88e31525f7deef66779844ddce</td>\n",
              "      <td>1</td>\n",
              "      <td>delivered</td>\n",
              "      <td>2018-05-09</td>\n",
              "      <td>2018-04-27 16:42:17</td>\n",
              "      <td>2018-04-24 16:16:53</td>\n",
              "      <td>debit_card</td>\n",
              "      <td>18.30</td>\n",
              "      <td>5</td>\n",
              "    </tr>\n",
              "    <tr>\n",
              "      <th>1</th>\n",
              "      <td>3aa071139cb16b67ca9e5dea641aaa2f</td>\n",
              "      <td>artes</td>\n",
              "      <td>art</td>\n",
              "      <td>5236307716393b7114b53ee991f36956</td>\n",
              "      <td>1</td>\n",
              "      <td>delivered</td>\n",
              "      <td>2018-02-22</td>\n",
              "      <td>2018-02-16 13:27:08</td>\n",
              "      <td>2018-01-31 18:55:36</td>\n",
              "      <td>voucher</td>\n",
              "      <td>265.99</td>\n",
              "      <td>5</td>\n",
              "    </tr>\n",
              "    <tr>\n",
              "      <th>2</th>\n",
              "      <td>96bd76ec8810374ed1b65e291975717f</td>\n",
              "      <td>esporte_lazer</td>\n",
              "      <td>sports_leisure</td>\n",
              "      <td>01f66e58769f84129811d43eefd187fb</td>\n",
              "      <td>1</td>\n",
              "      <td>delivered</td>\n",
              "      <td>2018-07-18</td>\n",
              "      <td>2018-07-11 23:24:16</td>\n",
              "      <td>2018-07-09 21:18:01</td>\n",
              "      <td>credit_card</td>\n",
              "      <td>87.62</td>\n",
              "      <td>5</td>\n",
              "    </tr>\n",
              "    <tr>\n",
              "      <th>3</th>\n",
              "      <td>cef67bcfe19066a932b7673e239eb23d</td>\n",
              "      <td>bebes</td>\n",
              "      <td>baby</td>\n",
              "      <td>143d00a4f2dde4e0364ee1821577adb3</td>\n",
              "      <td>1</td>\n",
              "      <td>delivered</td>\n",
              "      <td>2018-08-08</td>\n",
              "      <td>2018-08-06 15:14:32</td>\n",
              "      <td>2018-08-03 08:55:50</td>\n",
              "      <td>credit_card</td>\n",
              "      <td>121.84</td>\n",
              "      <td>1</td>\n",
              "    </tr>\n",
              "    <tr>\n",
              "      <th>4</th>\n",
              "      <td>9dc1a7de274444849c219cff195d0b71</td>\n",
              "      <td>utilidades_domesticas</td>\n",
              "      <td>housewares</td>\n",
              "      <td>86cafb8794cb99a9b1b77fc8e48fbbbb</td>\n",
              "      <td>1</td>\n",
              "      <td>delivered</td>\n",
              "      <td>2018-04-26</td>\n",
              "      <td>2018-04-13 22:41:44</td>\n",
              "      <td>2018-04-11 01:06:37</td>\n",
              "      <td>credit_card</td>\n",
              "      <td>46.19</td>\n",
              "      <td>5</td>\n",
              "    </tr>\n",
              "  </tbody>\n",
              "</table>\n",
              "</div>"
            ],
            "text/plain": [
              "                         product_id  product_category_name  \\\n",
              "0  1e9e8ef04dbcff4541ed26657ea517e5             perfumaria   \n",
              "1  3aa071139cb16b67ca9e5dea641aaa2f                  artes   \n",
              "2  96bd76ec8810374ed1b65e291975717f          esporte_lazer   \n",
              "3  cef67bcfe19066a932b7673e239eb23d                  bebes   \n",
              "4  9dc1a7de274444849c219cff195d0b71  utilidades_domesticas   \n",
              "\n",
              "  product_category_name_english                          order_id  \\\n",
              "0                     perfumery  e17e4f88e31525f7deef66779844ddce   \n",
              "1                           art  5236307716393b7114b53ee991f36956   \n",
              "2                sports_leisure  01f66e58769f84129811d43eefd187fb   \n",
              "3                          baby  143d00a4f2dde4e0364ee1821577adb3   \n",
              "4                    housewares  86cafb8794cb99a9b1b77fc8e48fbbbb   \n",
              "\n",
              "   order_item_id order_status order_estimated_delivery_date  \\\n",
              "0              1    delivered                    2018-05-09   \n",
              "1              1    delivered                    2018-02-22   \n",
              "2              1    delivered                    2018-07-18   \n",
              "3              1    delivered                    2018-08-08   \n",
              "4              1    delivered                    2018-04-26   \n",
              "\n",
              "  order_delivered_customer_date order_purchase_timestamp payment_type  \\\n",
              "0           2018-04-27 16:42:17      2018-04-24 16:16:53   debit_card   \n",
              "1           2018-02-16 13:27:08      2018-01-31 18:55:36      voucher   \n",
              "2           2018-07-11 23:24:16      2018-07-09 21:18:01  credit_card   \n",
              "3           2018-08-06 15:14:32      2018-08-03 08:55:50  credit_card   \n",
              "4           2018-04-13 22:41:44      2018-04-11 01:06:37  credit_card   \n",
              "\n",
              "   payment_value  review_score  \n",
              "0          18.30             5  \n",
              "1         265.99             5  \n",
              "2          87.62             5  \n",
              "3         121.84             1  \n",
              "4          46.19             5  "
            ]
          },
          "execution_count": 37,
          "metadata": {},
          "output_type": "execute_result"
        }
      ],
      "source": [
        "# Merging df_products_category_items_orders_payments with df_o_reviews\n",
        "data = pd.merge(df_products_category_items_orders_payments,df_o_reviews[['order_id','review_score']], on='order_id', how='inner')\n",
        "data.head()"
      ]
    },
    {
      "cell_type": "markdown",
      "metadata": {},
      "source": [
        "data.info()"
      ]
    },
    {
      "cell_type": "markdown",
      "metadata": {},
      "source": [
        "data.describe()"
      ]
    },
    {
      "cell_type": "markdown",
      "metadata": {},
      "source": [
        "### Explore `data`"
      ]
    },
    {
      "cell_type": "markdown",
      "metadata": {},
      "source": [
        "Akan dicari tahu manakah 7 kategori produk yang paling laris dari data."
      ]
    },
    {
      "cell_type": "code",
      "execution_count": 38,
      "metadata": {},
      "outputs": [
        {
          "data": {
            "text/html": [
              "<div>\n",
              "<style scoped>\n",
              "    .dataframe tbody tr th:only-of-type {\n",
              "        vertical-align: middle;\n",
              "    }\n",
              "\n",
              "    .dataframe tbody tr th {\n",
              "        vertical-align: top;\n",
              "    }\n",
              "\n",
              "    .dataframe thead th {\n",
              "        text-align: right;\n",
              "    }\n",
              "</style>\n",
              "<table border=\"1\" class=\"dataframe\">\n",
              "  <thead>\n",
              "    <tr style=\"text-align: right;\">\n",
              "      <th></th>\n",
              "      <th>count</th>\n",
              "    </tr>\n",
              "    <tr>\n",
              "      <th>product_category_name_english</th>\n",
              "      <th></th>\n",
              "    </tr>\n",
              "  </thead>\n",
              "  <tbody>\n",
              "    <tr>\n",
              "      <th>bed_bath_table</th>\n",
              "      <td>12516</td>\n",
              "    </tr>\n",
              "    <tr>\n",
              "      <th>health_beauty</th>\n",
              "      <td>8652</td>\n",
              "    </tr>\n",
              "    <tr>\n",
              "      <th>sports_leisure</th>\n",
              "      <td>8135</td>\n",
              "    </tr>\n",
              "    <tr>\n",
              "      <th>furniture_decor</th>\n",
              "      <td>7886</td>\n",
              "    </tr>\n",
              "    <tr>\n",
              "      <th>computers_accessories</th>\n",
              "      <td>6950</td>\n",
              "    </tr>\n",
              "    <tr>\n",
              "      <th>housewares</th>\n",
              "      <td>6605</td>\n",
              "    </tr>\n",
              "    <tr>\n",
              "      <th>watches_gifts</th>\n",
              "      <td>5110</td>\n",
              "    </tr>\n",
              "  </tbody>\n",
              "</table>\n",
              "</div>"
            ],
            "text/plain": [
              "                               count\n",
              "product_category_name_english       \n",
              "bed_bath_table                 12516\n",
              "health_beauty                   8652\n",
              "sports_leisure                  8135\n",
              "furniture_decor                 7886\n",
              "computers_accessories           6950\n",
              "housewares                      6605\n",
              "watches_gifts                   5110"
            ]
          },
          "execution_count": 38,
          "metadata": {},
          "output_type": "execute_result"
        }
      ],
      "source": [
        "# Mencari 7 kategori produk terlaris\n",
        "top7_category = data['product_category_name_english'].value_counts().head(7)\n",
        "pd.DataFrame(top7_category) "
      ]
    },
    {
      "cell_type": "markdown",
      "metadata": {},
      "source": [
        "Akan dilihat rating yang didapatkan pada data."
      ]
    },
    {
      "cell_type": "code",
      "execution_count": 39,
      "metadata": {},
      "outputs": [
        {
          "data": {
            "text/html": [
              "<div>\n",
              "<style scoped>\n",
              "    .dataframe tbody tr th:only-of-type {\n",
              "        vertical-align: middle;\n",
              "    }\n",
              "\n",
              "    .dataframe tbody tr th {\n",
              "        vertical-align: top;\n",
              "    }\n",
              "\n",
              "    .dataframe thead th {\n",
              "        text-align: right;\n",
              "    }\n",
              "</style>\n",
              "<table border=\"1\" class=\"dataframe\">\n",
              "  <thead>\n",
              "    <tr style=\"text-align: right;\">\n",
              "      <th></th>\n",
              "      <th>count</th>\n",
              "    </tr>\n",
              "    <tr>\n",
              "      <th>review_score</th>\n",
              "      <th></th>\n",
              "    </tr>\n",
              "  </thead>\n",
              "  <tbody>\n",
              "    <tr>\n",
              "      <th>1</th>\n",
              "      <td>11119</td>\n",
              "    </tr>\n",
              "    <tr>\n",
              "      <th>2</th>\n",
              "      <td>3443</td>\n",
              "    </tr>\n",
              "    <tr>\n",
              "      <th>3</th>\n",
              "      <td>8728</td>\n",
              "    </tr>\n",
              "    <tr>\n",
              "      <th>4</th>\n",
              "      <td>20166</td>\n",
              "    </tr>\n",
              "    <tr>\n",
              "      <th>5</th>\n",
              "      <td>60389</td>\n",
              "    </tr>\n",
              "  </tbody>\n",
              "</table>\n",
              "</div>"
            ],
            "text/plain": [
              "              count\n",
              "review_score       \n",
              "1             11119\n",
              "2              3443\n",
              "3              8728\n",
              "4             20166\n",
              "5             60389"
            ]
          },
          "execution_count": 39,
          "metadata": {},
          "output_type": "execute_result"
        }
      ],
      "source": [
        "# Melihat rating yang diraih\n",
        "ratings = data['review_score'].value_counts().sort_index(ascending=True)\n",
        "pd.DataFrame(ratings)"
      ]
    },
    {
      "cell_type": "markdown",
      "metadata": {},
      "source": [
        "Akan dilihat bagaimanakah persentase metode pembayaran yang dilakukan pada data."
      ]
    },
    {
      "cell_type": "code",
      "execution_count": 40,
      "metadata": {},
      "outputs": [
        {
          "data": {
            "text/html": [
              "<div>\n",
              "<style scoped>\n",
              "    .dataframe tbody tr th:only-of-type {\n",
              "        vertical-align: middle;\n",
              "    }\n",
              "\n",
              "    .dataframe tbody tr th {\n",
              "        vertical-align: top;\n",
              "    }\n",
              "\n",
              "    .dataframe thead th {\n",
              "        text-align: right;\n",
              "    }\n",
              "</style>\n",
              "<table border=\"1\" class=\"dataframe\">\n",
              "  <thead>\n",
              "    <tr style=\"text-align: right;\">\n",
              "      <th></th>\n",
              "      <th>payment_type</th>\n",
              "      <th>count</th>\n",
              "    </tr>\n",
              "  </thead>\n",
              "  <tbody>\n",
              "    <tr>\n",
              "      <th>0</th>\n",
              "      <td>credit_card</td>\n",
              "      <td>76074</td>\n",
              "    </tr>\n",
              "    <tr>\n",
              "      <th>1</th>\n",
              "      <td>boleto</td>\n",
              "      <td>20173</td>\n",
              "    </tr>\n",
              "    <tr>\n",
              "      <th>2</th>\n",
              "      <td>voucher</td>\n",
              "      <td>6045</td>\n",
              "    </tr>\n",
              "    <tr>\n",
              "      <th>3</th>\n",
              "      <td>debit_card</td>\n",
              "      <td>1553</td>\n",
              "    </tr>\n",
              "  </tbody>\n",
              "</table>\n",
              "</div>"
            ],
            "text/plain": [
              "  payment_type  count\n",
              "0  credit_card  76074\n",
              "1       boleto  20173\n",
              "2      voucher   6045\n",
              "3   debit_card   1553"
            ]
          },
          "execution_count": 40,
          "metadata": {},
          "output_type": "execute_result"
        }
      ],
      "source": [
        "type_payment = data['payment_type'].value_counts().reset_index()\n",
        "pd.DataFrame(type_payment)"
      ]
    },
    {
      "cell_type": "markdown",
      "metadata": {},
      "source": [
        "Akan dicari kategori produk apa sajakah yang dicancel serta seberapa banyak kategori produk yang dicancel tersebut."
      ]
    },
    {
      "cell_type": "code",
      "execution_count": 41,
      "metadata": {},
      "outputs": [
        {
          "data": {
            "text/html": [
              "<div>\n",
              "<style scoped>\n",
              "    .dataframe tbody tr th:only-of-type {\n",
              "        vertical-align: middle;\n",
              "    }\n",
              "\n",
              "    .dataframe tbody tr th {\n",
              "        vertical-align: top;\n",
              "    }\n",
              "\n",
              "    .dataframe thead th {\n",
              "        text-align: right;\n",
              "    }\n",
              "</style>\n",
              "<table border=\"1\" class=\"dataframe\">\n",
              "  <thead>\n",
              "    <tr style=\"text-align: right;\">\n",
              "      <th></th>\n",
              "      <th>product_category_name_english</th>\n",
              "      <th>count</th>\n",
              "    </tr>\n",
              "  </thead>\n",
              "  <tbody>\n",
              "    <tr>\n",
              "      <th>0</th>\n",
              "      <td>perfumery</td>\n",
              "      <td>2</td>\n",
              "    </tr>\n",
              "    <tr>\n",
              "      <th>1</th>\n",
              "      <td>health_beauty</td>\n",
              "      <td>2</td>\n",
              "    </tr>\n",
              "    <tr>\n",
              "      <th>2</th>\n",
              "      <td>fashion_bags_accessories</td>\n",
              "      <td>1</td>\n",
              "    </tr>\n",
              "    <tr>\n",
              "      <th>3</th>\n",
              "      <td>sports_leisure</td>\n",
              "      <td>1</td>\n",
              "    </tr>\n",
              "    <tr>\n",
              "      <th>4</th>\n",
              "      <td>toys</td>\n",
              "      <td>1</td>\n",
              "    </tr>\n",
              "  </tbody>\n",
              "</table>\n",
              "</div>"
            ],
            "text/plain": [
              "  product_category_name_english  count\n",
              "0                     perfumery      2\n",
              "1                 health_beauty      2\n",
              "2      fashion_bags_accessories      1\n",
              "3                sports_leisure      1\n",
              "4                          toys      1"
            ]
          },
          "execution_count": 41,
          "metadata": {},
          "output_type": "execute_result"
        }
      ],
      "source": [
        "canceled = data[data['order_status'] == 'canceled']\n",
        "canceled_order = canceled['product_category_name_english'].value_counts().reset_index()\n",
        "pd.DataFrame(canceled_order)"
      ]
    },
    {
      "cell_type": "markdown",
      "metadata": {},
      "source": [
        "### Explore Teknik Analisis Lanjutan (RFM Analysis)"
      ]
    },
    {
      "cell_type": "markdown",
      "metadata": {},
      "source": [
        "Akan dilakukan teknik analisis lanjutan dengan RFM analysis sebagai berikut"
      ]
    },
    {
      "cell_type": "code",
      "execution_count": 42,
      "metadata": {},
      "outputs": [
        {
          "data": {
            "text/html": [
              "<div>\n",
              "<style scoped>\n",
              "    .dataframe tbody tr th:only-of-type {\n",
              "        vertical-align: middle;\n",
              "    }\n",
              "\n",
              "    .dataframe tbody tr th {\n",
              "        vertical-align: top;\n",
              "    }\n",
              "\n",
              "    .dataframe thead th {\n",
              "        text-align: right;\n",
              "    }\n",
              "</style>\n",
              "<table border=\"1\" class=\"dataframe\">\n",
              "  <thead>\n",
              "    <tr style=\"text-align: right;\">\n",
              "      <th></th>\n",
              "      <th>review_score</th>\n",
              "      <th>frequency</th>\n",
              "      <th>monetary</th>\n",
              "      <th>recency</th>\n",
              "    </tr>\n",
              "  </thead>\n",
              "  <tbody>\n",
              "    <tr>\n",
              "      <th>0</th>\n",
              "      <td>1</td>\n",
              "      <td>8348</td>\n",
              "      <td>1456211.73</td>\n",
              "      <td>0</td>\n",
              "    </tr>\n",
              "    <tr>\n",
              "      <th>1</th>\n",
              "      <td>2</td>\n",
              "      <td>2686</td>\n",
              "      <td>421980.88</td>\n",
              "      <td>1</td>\n",
              "    </tr>\n",
              "    <tr>\n",
              "      <th>2</th>\n",
              "      <td>3</td>\n",
              "      <td>7371</td>\n",
              "      <td>1003368.84</td>\n",
              "      <td>0</td>\n",
              "    </tr>\n",
              "    <tr>\n",
              "      <th>3</th>\n",
              "      <td>4</td>\n",
              "      <td>17572</td>\n",
              "      <td>2276002.23</td>\n",
              "      <td>1</td>\n",
              "    </tr>\n",
              "    <tr>\n",
              "      <th>4</th>\n",
              "      <td>5</td>\n",
              "      <td>52578</td>\n",
              "      <td>6819928.35</td>\n",
              "      <td>0</td>\n",
              "    </tr>\n",
              "  </tbody>\n",
              "</table>\n",
              "</div>"
            ],
            "text/plain": [
              "   review_score  frequency    monetary  recency\n",
              "0             1       8348  1456211.73        0\n",
              "1             2       2686   421980.88        1\n",
              "2             3       7371  1003368.84        0\n",
              "3             4      17572  2276002.23        1\n",
              "4             5      52578  6819928.35        0"
            ]
          },
          "execution_count": 42,
          "metadata": {},
          "output_type": "execute_result"
        }
      ],
      "source": [
        "rfm_df = data.groupby(by=\"review_score\", as_index=False).agg({\n",
        "    \"order_purchase_timestamp\": \"max\", # last order date\n",
        "    \"order_id\": \"nunique\", # order count\n",
        "    \"payment_value\": \"sum\" # total revenue\n",
        "})\n",
        "rfm_df.columns = [\"review_score\", \"max_order_timestamp\", \"frequency\", \"monetary\"]\n",
        "\n",
        "# last made order\n",
        "rfm_df[\"max_order_timestamp\"] = rfm_df[\"max_order_timestamp\"].dt.date\n",
        "date_recent = data[\"order_purchase_timestamp\"].dt.date.max()\n",
        "rfm_df[\"recency\"] = rfm_df[\"max_order_timestamp\"].apply(lambda x: (date_recent - x).days)\n",
        "    \n",
        "rfm_df.drop(\"max_order_timestamp\", axis=1, inplace=True)\n",
        "rfm_df.head()"
      ]
    },
    {
      "cell_type": "code",
      "execution_count": 43,
      "metadata": {},
      "outputs": [
        {
          "name": "stdout",
          "output_type": "stream",
          "text": [
            "Rata-rata Rating berdasarkan Recency (days) = 0.4 \n",
            "Rata-rata Rating berdasarkan Frequency = 17711.0 \n",
            "Rata-rata Rating berdasarkan Monetary = $2,395,498.41 \n",
            "\n"
          ]
        }
      ],
      "source": [
        "## Summary RFM Analysis on Ratings (review_score)\n",
        "avg_recency = round(rfm_df.recency.mean(), 1)\n",
        "avg_frequency = round(rfm_df.frequency.mean(), 2)\n",
        "avg_monetary = format_currency(round(rfm_df.monetary.mean(),2), 'USD', locale='en_US') \n",
        "print('Rata-rata Rating berdasarkan Recency (days) =',f'{avg_recency}','\\nRata-rata Rating berdasarkan Frequency =',f'{avg_frequency}','\\nRata-rata Rating berdasarkan Monetary =',f'{avg_monetary}','\\n')"
      ]
    },
    {
      "cell_type": "code",
      "execution_count": 44,
      "metadata": {},
      "outputs": [],
      "source": [
        "data.to_csv('main_data.csv', index=False)"
      ]
    },
    {
      "cell_type": "markdown",
      "metadata": {
        "id": "zsyZjqak8DC2"
      },
      "source": [
        "## Visualization & Explanatory Analysis"
      ]
    },
    {
      "cell_type": "markdown",
      "metadata": {},
      "source": [
        "### Pertanyaan 1:\n",
        "Bagaimana trend pembelian yang terjadi setiap bulan? Apakah trendnya cenderung mengalami kenaikan atau penurunan? Pada bulan dan tahun berapakah penjualan tertinggi serta penjualan terendah diraih?"
      ]
    },
    {
      "cell_type": "code",
      "execution_count": 45,
      "metadata": {},
      "outputs": [
        {
          "data": {
            "image/png": "[encoded data removed]",
            "text/plain": [
              "<Figure size 1200x600 with 1 Axes>"
            ]
          },
          "metadata": {},
          "output_type": "display_data"
        }
      ],
      "source": [
        "orders_month.plot(figsize=(12, 6))\n",
        "plt.title('Trend Orders by Month')\n",
        "plt.xlabel('Month')\n",
        "plt.ylabel('Frequency')\n",
        "plt.show()"
      ]
    },
    {
      "cell_type": "markdown",
      "metadata": {},
      "source": [
        "### Pertanyaan 2: \n",
        "Produk apakah yang paling laris terjual? 7 kategori produk mana sajakah yang terlaris?"
      ]
    },
    {
      "cell_type": "code",
      "execution_count": 46,
      "metadata": {},
      "outputs": [
        {
          "data": {
            "image/png": "[encoded data removed]",
            "text/plain": [
              "<Figure size 1200x600 with 1 Axes>"
            ]
          },
          "metadata": {},
          "output_type": "display_data"
        }
      ],
      "source": [
        "top7_category.plot.bar(figsize=(12,6),color=['skyblue','grey','grey','grey','grey','grey','grey'])\n",
        "plt.title('Top 7 Category Products')\n",
        "plt.xlabel('Product\\'s Category')\n",
        "plt.ylabel('Orders')\n",
        "plt.xticks(rotation=45)\n",
        "plt.show()"
      ]
    },
    {
      "cell_type": "markdown",
      "metadata": {},
      "source": [
        "### Pertanyaan 3:\n",
        "Bagaimanakah rating yang didapatkan? Apakah E-commerce Olist merupakan platform yang bagus untuk transaksi jual beli jika dilihat berdasarkan ratingnya?"
      ]
    },
    {
      "cell_type": "code",
      "execution_count": 47,
      "metadata": {},
      "outputs": [
        {
          "data": {
            "image/png": "[encoded data removed]",
            "text/plain": [
              "<Figure size 1200x600 with 1 Axes>"
            ]
          },
          "metadata": {},
          "output_type": "display_data"
        }
      ],
      "source": [
        "ratings.plot.bar(figsize=(12, 6))\n",
        "plt.title('Ratings')\n",
        "plt.xlabel('Rating Scale')\n",
        "plt.ylabel('Rating Count')\n",
        "plt.xticks(rotation=0)\n",
        "plt.show()"
      ]
    },
    {
      "cell_type": "markdown",
      "metadata": {
        "id": "DgHI7CiU8DC2"
      },
      "source": [
        "### Pertanyaan 4:\n",
        "Metode pembayaran apakah yang paling sering digunakan? Bagaimanakah persentase dari masing-masing metode pembayaran? "
      ]
    },
    {
      "cell_type": "code",
      "execution_count": 48,
      "metadata": {},
      "outputs": [
        {
          "data": {
            "image/png": "[encoded data removed]",
            "text/plain": [
              "<Figure size 1200x600 with 1 Axes>"
            ]
          },
          "metadata": {},
          "output_type": "display_data"
        }
      ],
      "source": [
        "pastel_colors = sns.color_palette(\"pastel\", len(type_payment))\n",
        "explode_list = [0.05, 0.025, 0.025, 0.025]\n",
        "\n",
        "fig, ax = plt.subplots(figsize=(12, 6))\n",
        "ax.pie(type_payment['count'],\n",
        "       autopct='%1.1f%%',\n",
        "       explode=explode_list,\n",
        "       colors=pastel_colors,\n",
        "       labels=None,\n",
        "       shadow=True,\n",
        "       pctdistance=1.2,\n",
        "       startangle=45\n",
        ")\n",
        "ax.legend(labels=type_payment['payment_type'],loc='upper left')\n",
        "ax.axis('equal')\n",
        "ax.set_title('Payment Type Percentage',y=1.12)\n",
        "\n",
        "plt.show()"
      ]
    },
    {
      "cell_type": "markdown",
      "metadata": {},
      "source": [
        "### Pertanyaan 5: Sebuah usaha e-commerce tentu tidak luput dari resiko cancel order. Apakah pada Olist E-commerce terdapat produk yang mengalami cancel order? Kategori produk apa sajakah serta berapa banyak kategori produk yang dicancel tersebut? Berapakah total produk yang ordernya dicancel?"
      ]
    },
    {
      "cell_type": "code",
      "execution_count": 49,
      "metadata": {},
      "outputs": [
        {
          "data": {
            "image/png": "[encoded data removed]",
            "text/plain": [
              "<Figure size 640x480 with 1 Axes>"
            ]
          },
          "metadata": {},
          "output_type": "display_data"
        }
      ],
      "source": [
        "plt.pie(x=canceled_order['count'],\n",
        "        labels=canceled_order['product_category_name_english'],\n",
        "        wedgeprops = {'width': 0.4},\n",
        "        colors=pastel_colors\n",
        ")\n",
        "plt.title('Canceled Order Products')\n",
        "plt.show()"
      ]
    },
    {
      "cell_type": "markdown",
      "metadata": {},
      "source": [
        "### Pertanyaan 6: \n",
        "Analisis lebih lanjut diperlukan untuk sebuah usaha e-commerce. Bagaimanakah analisis rating berdasarkan RFM Analysis? Apakah performa Olist E-commerce tergolong baik?"
      ]
    },
    {
      "cell_type": "code",
      "execution_count": 50,
      "metadata": {},
      "outputs": [
        {
          "data": {
            "image/png": "[encoded data removed]",
            "text/plain": [
              "<Figure size 3000x600 with 3 Axes>"
            ]
          },
          "metadata": {},
          "output_type": "display_data"
        }
      ],
      "source": [
        "fig, ax = plt.subplots(nrows=1, ncols=3, figsize=(30, 6))\n",
        " \n",
        "sns.barplot(y=\"recency\", x=\"review_score\", data=rfm_df.sort_values(by=\"recency\", ascending=True).head(5), ax=ax[0])\n",
        "ax[0].set_ylabel(None)\n",
        "ax[0].set_xlabel(None)\n",
        "ax[0].set_title(\"By Recency (days)\", loc=\"center\", fontsize=18)\n",
        "ax[0].tick_params(axis ='x', labelsize=15)\n",
        " \n",
        "sns.barplot(y=\"frequency\", x=\"review_score\", data=rfm_df.sort_values(by=\"frequency\", ascending=False).head(5), ax=ax[1])\n",
        "ax[1].set_ylabel(None)\n",
        "ax[1].set_xlabel(None)\n",
        "ax[1].set_title(\"By Frequency\", loc=\"center\", fontsize=18)\n",
        "ax[1].tick_params(axis='x', labelsize=15)\n",
        " \n",
        "sns.barplot(y=\"monetary\", x=\"review_score\", data=rfm_df.sort_values(by=\"monetary\", ascending=False).head(5), ax=ax[2])\n",
        "ax[2].set_ylabel(None)\n",
        "ax[2].set_xlabel(None)\n",
        "ax[2].set_title(\"By Monetary\", loc=\"center\", fontsize=18)\n",
        "ax[2].tick_params(axis='x', labelsize=15)\n",
        " \n",
        "plt.suptitle(\"Rating Based on RFM Parameters (review_score)\", fontsize=20)\n",
        "plt.show()"
      ]
    },
    {
      "cell_type": "markdown",
      "metadata": {
        "id": "_WeHlCeX8DC2"
      },
      "source": [
        "## Conclusion"
      ]
    },
    {
      "cell_type": "markdown",
      "metadata": {
        "id": "ZTcyR48Y8DC2"
      },
      "source": [
        "- Conclution pertanyaan 1: Trend penjualan yang terjadi perbulan menunjukkan hasil yang baik. Dimana dapat dilihat pada line chart Trend Orders by Month bahwa trend penjualan cenderung mengalami kenaikan. Adapun jumlah pesanan tertinggi terjadi pada bulan November 2017, sedangkan jumlah pesanan paling sedikit terjadi pada bulan Desember 2016.\n",
        "- Conclution pertanyaan 2: Berdasarkan bar chart Top 7 Category Products dapat disimpulkan bahwa produk yang paling laris terjual adalah bed_bath_table yakni sebanyak 12516 buah. Adapun disusul 6 kategori produk terlaris berikutnya yakni health_beauty (8652 buah), sports_leisure (8135 buah), furniture_decor (7886 buah), computers_accessories (6950 buah), housewares (6605 buah), serta watches_gifts (5110 buah) seperti yang dapat dilihat pada bar chartnya. \n",
        "- Conclution pertanyaan 3: Dari grafik ratings dapat disimpulkan bahwa perolehan rating Olist E-commerce baik. Dimana rating yang paling banyak diraih adalah rating 5 dan disusul rating 4. Hal ini menunjukkan bahwa performa penjualan baik sehingga memuaskan dalam transaksi jual-beli di Olist E-commerce.\n",
        "- Conclution pertanyaan 4: Dari pie chart Payment Type Percentage dapat diambil kesimpulan bahwa metode pembayaran yang paling sering digunakan adalah credit card yakni sebesar 73.3% jika dibandingkan dengan metode pembayaran lainnya seperti boleto (19.4%), voucher (5.8%), dan debit card (1.5%).\n",
        "- Conclution pertanyaan 5: Olist E-commerce mengalami beberapa cancel order walaupun jumlahnya tidak banyak. Adapun kategori produk yang mengalami cancel order diantaranya adalah perfumery (2 buah), health_beauty (2 buah), fashion_bags_accessories (1 buah), sports_leisure (1 buah), serta toys (1 buah). Sehingga total produk yang ordernya dicancel sebanyak 7 buah produk.\n",
        "- Conclution pertanyaan 6: Berdasarkan RFM analysis yang telah dilakukan, dapat disimpulkan bahwa rating berdasarkan recency (days) berada pada rating 2 dan 4, dengan rata-rata rating berdasarkan Recency (days) sebesar 0.4. Lalu rating berdasarkan frequency tertinggi terdapat pada rating 5, dengan rata-rata rating berdasarkan Frequency sebesar 17711. Serta rating berdasarkan monetary tertinggi juga terdapat ada rating 5, dengan rata-rata rating berdasarkan Monetary sebesar $2,395,498.41. Dari hasil analisis lanjutan tersebut dapat disimpulkan bahwa berdasarkan RFM parameters, performa Olist E-commerce tergolong baik."
      ]
    }
  ],
  "metadata": {
    "colab": {
      "provenance": []
    },
    "kernelspec": {
      "display_name": "Python 3",
      "language": "python",
      "name": "python3"
    },
    "language_info": {
      "codemirror_mode": {
        "name": "ipython",
        "version": 3
      },
      "file_extension": ".py",
      "mimetype": "text/x-python",
      "name": "python",
      "nbconvert_exporter": "python",
      "pygments_lexer": "ipython3",
      "version": "3.12.2"
    },
    "orig_nbformat": 4,
    "vscode": {
      "interpreter": {
        "hash": "972b3bf27e332e87b5379f2791f6ef9dfc79c71018c370b0d7423235e20fe4d7"
      }
    }
  },
  "nbformat": 4,
  "nbformat_minor": 0
}
